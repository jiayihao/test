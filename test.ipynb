{
 "cells": [
  {
   "cell_type": "code",
   "execution_count": 4,
   "id": "fe0c0bb9-64ad-4982-92da-a0daa2cf972c",
   "metadata": {
    "tags": []
   },
   "outputs": [],
   "source": [
    "import openai\n",
    "openai.api_type = \"azure\"\n",
    "openai.api_key = \"5a2109a4be6c42349cf136cec9d84644\"\n",
    "openai.api_base = \"https://agi-openai.openai.azure.com\"\n",
    "openai.api_version = \"2023-03-15-preview\""
   ]
  },
  {
   "cell_type": "markdown",
   "id": "d5ce0fd9-5d97-40c7-8e97-28a30d116583",
   "metadata": {},
   "source": [
    "## 示例：单轮/多轮对话输出"
   ]
  },
  {
   "cell_type": "markdown",
   "id": "3993954f-737d-4396-a227-8d4908cb6f3d",
   "metadata": {},
   "source": [
    "### 单轮对话输出"
   ]
  },
  {
   "cell_type": "code",
   "execution_count": 5,
   "id": "fcc25c9f-9605-417a-aaa6-29218de1f17a",
   "metadata": {},
   "outputs": [
    {
     "name": "stdout",
     "output_type": "stream",
     "text": [
      "\"{Je t'aime}\"\n"
     ]
    }
   ],
   "source": [
    "response = openai.ChatCompletion.create(\n",
    "    model='gpt-3.5-turbo',\n",
    "    messages=[\n",
    "  {\"role\": \"system\", \"content\": \"You are a helpful assistant that translates English to French.\"},\n",
    "  {\"role\": \"user\", \"content\": '\"{I Love You}\"'}\n",
    "],\n",
    "    temperature=0.7,\n",
    "    deployment_id='gtp35')\n",
    "print(response['choices'][0]['message']['content'])"
   ]
  },
  {
   "cell_type": "markdown",
   "id": "9057ae8a-1450-4401-a2bb-6440b3a0e320",
   "metadata": {},
   "source": [
    "### 多轮对话输出+流输出\n",
    "下为一个实现多轮对话的例子，输入\"end\"结束对话。"
   ]
  },
  {
   "cell_type": "code",
   "execution_count": 13,
   "id": "f85d40bd-5d09-42c0-8d47-6cbcc9c8ffbe",
   "metadata": {},
   "outputs": [
    {
     "name": "stdin",
     "output_type": "stream",
     "text": [
      " 帮我生成一段朴素贝叶斯的代码\n"
     ]
    },
    {
     "name": "stdout",
     "output_type": "stream",
     "text": [
      "GPT:\n",
      "好的，以下是一个简单的朴素贝叶斯分类器的Python实现：\n",
      "\n",
      "```python\n",
      "import numpy as np\n",
      "\n",
      "class NaiveBayes:\n",
      "    def fit(self, X, y):\n",
      "        self.X = X\n",
      "        self.y = y\n",
      "        self.classes = np.unique(y)\n",
      "        self.parameters = []\n",
      "        for i, c in enumerate(self.classes):\n",
      "            X_c = X[y == c]\n",
      "            self.parameters.append([])\n",
      "            for j in range(X.shape[1]):\n",
      "                mu, std = X_c[:, j].mean(), X_c[:, j].std()\n",
      "                self.parameters[i].append((mu, std))\n",
      "\n",
      "    def _calculate_likelihood(self, mean, std, x):\n",
      "        exponent = np.exp(-((x - mean) ** 2 / (2 * std ** 2)))\n",
      "        return np.log(exponent / (np.sqrt(2 * np.pi) * std))\n",
      "\n",
      "    def _calculate_prior(self, c):\n",
      "        return np.mean(self.y == c)\n",
      "\n",
      "    def predict(self, X):\n",
      "        y_pred = []\n",
      "        for x in X:\n",
      "            posteriors = []\n",
      "            for i, c in enumerate(self.classes):\n",
      "                prior = self._calculate_prior(c)\n",
      "                likelihood = np.sum(self._calculate_likelihood(*self.parameters[i][j], x[j]) for j in range(len(self.parameters[i])))\n",
      "                posterior = prior + likelihood\n",
      "                posteriors.append(posterior)\n",
      "            y_pred.append(self.classes[np.argmax(posteriors)])\n",
      "        return y_pred\n",
      "```\n",
      "\n",
      "该实现基于高斯分布假设，可以处理连续型数据。调用 `fit()` 方法来拟合模型，然后调用 `predict()` 方法来做出预测。"
     ]
    },
    {
     "name": "stdin",
     "output_type": "stream",
     "text": [
      " 写一下朴素贝叶斯的数学公司\n"
     ]
    },
    {
     "name": "stdout",
     "output_type": "stream",
     "text": [
      "GPT:\n",
      "朴素贝叶斯分类器是一种基于贝叶斯定理的概率分类算法，它假设不同特征之间是相互独立的，这种假设被称为“朴素”（naive），因此称为朴素贝叶斯分类器（Naive Bayes Classifier）。 其分类原理如下：\n",
      "\n",
      "假设一个样本 $x$ 包含 $n$ 个特征 $x_1, x_2, ..., x_n$，那么根据贝叶斯定理，我们可以得到：\n",
      "\n",
      "$$P(y|x_1, x_2, ..., x_n) = \\frac{P(x_1, x_2, ..., x_n|y)P(y)}{P(x_1, x_2, ..., x_n)}$$\n",
      "\n",
      "其中 $y$ 是样本的类别。\n",
      "\n",
      "根据朴素贝叶斯的假设，不同特征之间是相互独立的，所以可以将 $P(x_1, x_2, ..., x_n|y)$ 分解为各个特征的条件概率的乘积：\n",
      "\n",
      "$$P(x_1, x_2, ..., x_n|y) = P(x_1|y)P(x_2|y)...P(x_n|y)$$\n",
      "\n",
      "将上述公式代入贝叶斯公式中，得到：\n",
      "\n",
      "$$P(y|x_1, x_2, ..., x_n) = \\frac{P(y) \\prod_{i=1}^n P(x_i|y)}{P(x_1, x_2, ..., x_n)}$$\n",
      "\n",
      "由于 $P(x_1, x_2, ..., x_n)$ 对于所有的 $y$ 都是相同的，因此可以简化为：\n",
      "\n",
      "$$P(y|x_1, x_2, ..., x_n) \\propto P(y) \\prod_{i=1}^n P(x_i|y)$$\n",
      "\n",
      "其中 $\\propto$ 表示“与之成比例”。\n",
      "\n",
      "朴素贝叶斯分类器的训练过程就是估计 $P(y)$ 和 $P(x_i|y)$ 的过程。对于离散型特征，$P(x_i|y)$ 可以通过简单的统计计算得到，例如：\n",
      "\n",
      "$$P(x_i = a|y = c) = \\frac{\\text{在类别为 c 的样本中，特征} x_i \\text{取值为} a \\text{的样本数}}{\\text{类别为 c 的样本总数}}$$\n",
      "\n",
      "对于连续型特征，通常假设 $P(x_i|y)$ 是高斯分布，即：\n",
      "\n",
      "$$P(x_i|y) = \\frac{1}{\\sqrt{2\\pi\\sigma_{y,i}^2}}\\exp\\left(-\\frac{(x_i-\\mu_{y,i})^2}{2\\sigma_{y,i}^2}\\right)$$\n",
      "\n",
      "其中 $\\mu_{y,i}$ 是在类别为 $y$ 的样本中，第 $i$ 个特征的均值，$\\sigma_{y,i}$ 是标准差。\n",
      "\n",
      "通过上述公式，我们可以得到朴素贝叶斯分类器的基本原理。"
     ]
    },
    {
     "name": "stdin",
     "output_type": "stream",
     "text": [
      " end\n"
     ]
    }
   ],
   "source": [
    "sys_message = {\"role\": \"system\", \"content\": \"You are a helpful assistant.\"}\n",
    "messages = [sys_message]\n",
    "while True:\n",
    "    user_content = input();\n",
    "    if user_content == \"end\":\n",
    "        break\n",
    "    # print(\"用户: \\n {}\".format(user_content))\n",
    "    user_message = {\"role\": \"user\", \"content\": user_content}\n",
    "    messages.append(user_message)\n",
    "    response = openai.ChatCompletion.create(\n",
    "        model='gpt-3.5-turbo',\n",
    "        messages=messages,\n",
    "        temperature=0.7,\n",
    "        deployment_id='gtp35',\n",
    "        stream = True\n",
    "    )\n",
    "    # create variables to collect the stream of chunks\n",
    "    collected_chunks = []\n",
    "    collected_messages = []\n",
    "    # iterate through the stream of events\n",
    "    print(\"GPT:\")\n",
    "    for chunk in response:\n",
    "        collected_chunks.append(chunk)  # save the event response\n",
    "        chunk_message = chunk['choices'][0]['delta']  # extract the message\n",
    "        collected_messages.append(chunk_message)  # save the message\n",
    "        try: \n",
    "            print(chunk_message[\"content\"],end = \"\")  # print the delay and text\n",
    "        except:\n",
    "            pass\n",
    "    response_content = ''.join([m.get('content', '') for m in collected_messages])\n",
    "    re_message =  {'role': 'assistant', 'content':response_content}\n",
    "    messages.append(re_message)"
   ]
  },
  {
   "cell_type": "markdown",
   "id": "59d28c18-95f3-4ae9-8f23-f48d73fd1b16",
   "metadata": {},
   "source": [
    "## AI For Security/Antispam"
   ]
  },
  {
   "cell_type": "code",
   "execution_count": 8,
   "id": "074a95be-f2f0-4def-b84d-b7ac8523d1dd",
   "metadata": {},
   "outputs": [],
   "source": [
    "system_content = \"帮我解释一下以下风控因子的意思，细节到变量的意思，以及对应关系：\"\n",
    "factor_content = \"\"\" activityConfigWoollenUser\tCONST 活动配置-真人薅羊毛-运营修改 MAP Value:\n",
    "{\"saierda1\" : \"1\",\"wzkh2023\" : \"1\",\"PinkU\" : \"1\",\"cswuhan1\" : \"1\",\"cschangsha\" : \"1\",\"cschengdu\" : \"1\",\"ditto_home_furnishing\" : \"1\", \"jiabao\" : \"1\", \"423\" : \"1\",\"ditto_ride_2.0\" : \"1\", \"dianyinjie\" : \"1\",\"a2mama\" : \"1\", \"yishanliangzhiming\" : \"1\", \"Hainanlvpai\" : \"1\",\"yuanshen1\":\"1\",\"quechaoxiaohongshu\":\"1\",\"vinyl_record\":\"1\"}\n",
    "\"\"\""
   ]
  },
  {
   "cell_type": "code",
   "execution_count": 9,
   "id": "b62a5391-6d37-47a5-a2a2-aa64c2f02742",
   "metadata": {},
   "outputs": [
    {
     "name": "stdout",
     "output_type": "stream",
     "text": [
      "该风控因子为活动配置-真人薅羊毛-运营修改，其中变量为activityConfigWoollenUser，其值为一个MAP，表示参与该活动的真实用户（非机器人）的白名单。该MAP的key为用户的ID，value为1表示该用户在白名单中，value为0则表示不在白名单中。具体白名单中的用户ID包括：saierda1、wzkh2023、PinkU、cswuhan1、cschangsha、cschengdu、ditto_home_furnishing、jiabao、423、ditto_ride_2.0、dianyinjie、a2mama、yishanliangzhiming、Hainanlvpai、yuanshen1、quechaoxiaohongshu、vinyl_record。如果一个用户的ID不在该MAP中，则可能被认为是机器人或非法用户，从而触发相应的风控措施。\n"
     ]
    }
   ],
   "source": [
    "response = openai.ChatCompletion.create(\n",
    "    model='gpt-3.5-turbo',\n",
    "    messages=[\n",
    "  {\"role\": \"system\", \"content\": system_content},\n",
    "  {\"role\": \"user\", \"content\": factor_content},\n",
    "],\n",
    "    temperature=0.7,\n",
    "    deployment_id='gtp35')\n",
    "print(response['choices'][0]['message']['content'])"
   ]
  },
  {
   "cell_type": "markdown",
   "id": "8934e26f-ff78-44e4-a355-e182ae8fc2ff",
   "metadata": {},
   "source": [
    "## Security/ Antispam for/related with AI\n",
    "下为一个自动生成小红书文案的例子，输入\"end结束对话"
   ]
  },
  {
   "cell_type": "code",
   "execution_count": 10,
   "id": "f9199245-6000-477c-8ba0-558ce22b8d29",
   "metadata": {},
   "outputs": [],
   "source": [
    "system_content = \"\"\"\n",
    "你是小红书爆款写作专家，请你用以下步骤来进行创作，首先产出5个标题（含适当的emoji表情），其次产出1个正文（每一个段落含有适当的emoji表情，文末有合适的tag标签）\n",
    "\n",
    "一、在小红书标题方面，你会以下技能：\n",
    "\n",
    "1. 采用二极管标题法进行创作\n",
    "\n",
    "2. 你善于使用标题吸引人的特点\n",
    "\n",
    "3. 你使用爆款关键词，写标题时，从这个列表中随机选1-2个\n",
    "\n",
    "4. 你了解小红书平台的标题特性\n",
    "\n",
    "5. 你懂得创作的规则\n",
    "\n",
    "二、在小红书正文方面，你会以下技能：\n",
    "\n",
    "1. 写作风格\n",
    "\n",
    "2. 写作开篇方法\n",
    "\n",
    "3. 文本结构\n",
    "\n",
    "4. 互动引导方法\n",
    "\n",
    "5. 一些小技巧\n",
    "\n",
    "6. 爆炸词\n",
    "\n",
    "7. 从你生成的稿子中，抽取3-6个seo关键词，生成#标签并放在文章最后。尽量少用第二人称“你”来表述。\n",
    "\n",
    "8. 文章的每句话都尽量口语化、简短。\n",
    "\n",
    "9. 在每段话的开头使用表情符号，在每段话的结尾使用表情符号，在每段话的中间插入表情符号。\n",
    "\n",
    "三、结合我给你输入的信息，以及你掌握的标题和正文的技巧，产出内容。请按照如下格式输出内容，只需要格式描述的部分，如果产生其他内容则不输出：\n",
    "\n",
    "一. 标题\n",
    "\n",
    "[标题1到标题5]\n",
    "\n",
    "[换行]\n",
    "\n",
    "二. 正文\n",
    "\n",
    "[正文]\n",
    "\n",
    "标签：[标签]\n",
    "\"\"\""
   ]
  },
  {
   "cell_type": "code",
   "execution_count": 11,
   "id": "1c9ae034-f0de-47bf-ad9a-1dd6291cb019",
   "metadata": {},
   "outputs": [
    {
     "name": "stdin",
     "output_type": "stream",
     "text": [
      " 帮我输出一个制作牛油果蛋糕的文案\n"
     ]
    },
    {
     "name": "stdout",
     "output_type": "stream",
     "text": [
      "用户: \n",
      " 帮我输出一个制作牛油果蛋糕的文案\n",
      "一. 标题\n",
      "\n",
      "1. 🥑🍰【新手必看】制作美味牛油果蛋糕的秘诀！\n",
      "2. 🍴🧁不揉面不发面，轻松制作口感细腻的牛油果蛋糕！\n",
      "3. 🥑🎂用牛油果做的蛋糕，比巧克力蛋糕还好吃！\n",
      "4. 🍽️🌿健康又美味的牛油果蛋糕，让你吃出清新自然的味道！\n",
      "5. 🥑🍰融入牛油果的蛋糕，让你的生活更加美好！\n",
      "\n",
      "二. 正文\n",
      "\n",
      "👋 大家好，今天我来分享一份好吃的蛋糕食谱——牛油果蛋糕！这款蛋糕使用了新鲜的牛油果，口感细腻，营养丰富，而且非常好做！下面让我来分享一下制作方法吧！👇\n",
      "\n",
      "🥑 材料准备：\n",
      "\n",
      "- 牛油果 2个\n",
      "- 细砂糖 120g\n",
      "- 蛋 2个\n",
      "- 低粉 100g\n",
      "- 泡打粉 1/2茶匙\n",
      "- 泡打粉和牛油果可根据个人口感调整\n",
      "- 烤箱 180℃预热\n",
      "\n",
      "🍰 制作步骤：\n",
      "\n",
      "1️⃣ 将牛油果肉倒入搅拌器中，搅拌成细腻的糊状，加入细砂糖搅拌均匀。\n",
      "\n",
      "2️⃣ 打入鸡蛋，搅拌均匀，筛入低粉和泡打粉，搅拌成蛋糕糊。\n",
      "\n",
      "3️⃣ 将蛋糕糊倒入已经铺好油纸的模具中，放入已经预热好的烤箱中，180℃烤25分钟即可。\n",
      "\n",
      "4️⃣ 出炉后，取出蛋糕待凉，脱模后撒上适量的糖粉即可。\n",
      "\n",
      "🌿 小贴士：\n",
      "\n",
      "- 牛油果最好是熟透的，这样糊状会更加细腻。\n",
      "- 牛油果蛋糕烤制时，不要开太大的火，烤箱预热好后，放入蛋糕即可。\n",
      "- 想要口感更加细腻，可以加入一点柠檬汁，提味的效果非常好。\n",
      "\n",
      "🍴 美味的牛油果蛋糕就做好了！食用时口感细腻、味道清新，而且营养丰富，非常适合健康饮食的需求。快来试试制作吧！😋\n",
      "\n",
      "标签：#牛油果蛋糕# #健康饮食# #蛋糕食谱# #甜点# #下午茶#"
     ]
    },
    {
     "name": "stdin",
     "output_type": "stream",
     "text": [
      " 帮我生成一段王者荣耀中使用蔡文姬英雄的文案\n"
     ]
    },
    {
     "name": "stdout",
     "output_type": "stream",
     "text": [
      "用户: \n",
      " 帮我生成一段王者荣耀中使用蔡文姬英雄的文案\n",
      "一. 标题\n",
      "\n",
      "1. 🎵 用音符治愈战场，蔡文姬带你开黑\n",
      "2. 🌸 西子姑娘的妙手回春，蔡文姬让你战无不胜\n",
      "3. 🎭 抚琴弄笛，蔡文姬演绎最美英雄\n",
      "4. 🍵 一壶清茶，与蔡文姬共赏春风\n",
      "5. 💐 以花之名，以音之声，蔡文姬来袭\n",
      "\n",
      "二. 正文\n",
      "\n",
      "🌸 西子姑娘的妙手回春，蔡文姬是一位治愈系辅助英雄。在游戏中，她可以通过自己的音符之力为队友提供持续的回复效果，同时也可以利用她的技能控制敌人。作为一个远程英雄，她可以在后排发挥重要的支援作用。\n",
      "\n",
      "🎭 在团战中，蔡文姬的大招“琴瑟之音”可以为队友提供一个强力的回复和增益效果，同时也可以减慢敌人的行动速度。而她的二技能“狂热弹幕”可以在团战中造成大量伤害和控制效果，为队友制造良好的输出机会。\n",
      "\n",
      "🍵 作为一个治愈系英雄，蔡文姬不仅在团战中发挥重要作用，在单挑时也可以通过技能的控制效果来保护自己。她的一技能“音符之箭”可以远程攻击敌人，并且减慢敌人的行动速度，为自己带来更多的生存机会。\n",
      "\n",
      "💐 总之，蔡文姬是一位非常适合团队合作的辅助英雄。她可以通过自己的治愈效果和控制能力为队友提供强大的支援，同时也能够在团战中发挥出自己的输出能力。如果你喜欢以治愈和支援为主的英雄，那么蔡文姬一定是你不可错过的选择。\n",
      "\n",
      "标签：#王者荣耀 #蔡文姬 #治愈 #辅助 #团队合作"
     ]
    },
    {
     "name": "stdin",
     "output_type": "stream",
     "text": [
      " end\n"
     ]
    },
    {
     "name": "stdout",
     "output_type": "stream",
     "text": [
      "用户: \n",
      " end\n"
     ]
    }
   ],
   "source": [
    "while True:\n",
    "    user_content = input()\n",
    "    # print(\"用户: \\n {}\".format(user_content))\n",
    "    if user_content == \"end\":\n",
    "        break\n",
    "    response = openai.ChatCompletion.create(\n",
    "        model='gpt-3.5-turbo',\n",
    "        messages=[\n",
    "      {\"role\": \"system\", \"content\": system_content},\n",
    "      {\"role\": \"user\", \"content\": user_content},\n",
    "    ],\n",
    "        temperature=0.7,\n",
    "        deployment_id='gtp35',\n",
    "        stream = True)\n",
    "    for chunk in response:\n",
    "            collected_chunks.append(chunk)  # save the event response\n",
    "            chunk_message = chunk['choices'][0]['delta']  # extract the message\n",
    "            collected_messages.append(chunk_message)  # save the message\n",
    "            try: \n",
    "                print(chunk_message[\"content\"],end = \"\")  # print the delay and text\n",
    "            except:\n",
    "                pass"
   ]
  }
 ],
 "metadata": {
  "kernelspec": {
   "display_name": "Python 3 (ipykernel)",
   "language": "python",
   "name": "python3"
  },
  "language_info": {
   "codemirror_mode": {
    "name": "ipython",
    "version": 3
   },
   "file_extension": ".py",
   "mimetype": "text/x-python",
   "name": "python",
   "nbconvert_exporter": "python",
   "pygments_lexer": "ipython3",
   "version": "3.10.9"
  }
 },
 "nbformat": 4,
 "nbformat_minor": 5
}
